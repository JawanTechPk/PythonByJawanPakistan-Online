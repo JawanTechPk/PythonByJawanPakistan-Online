{
 "cells": [
  {
   "cell_type": "markdown",
   "metadata": {},
   "source": [
    "# Classes\n",
    "## Library Management System"
   ]
  },
  {
   "cell_type": "markdown",
   "metadata": {},
   "source": [
    "#### Classes\n",
    "#### Functions\n",
    "#### Lists\n",
    "#### loops"
   ]
  },
  {
   "cell_type": "code",
   "execution_count": 8,
   "metadata": {},
   "outputs": [],
   "source": [
    "class Employee:\n",
    "    def __init__(self,first_name,last_name,salary):\n",
    "        self.first_name = first_name\n",
    "        self.last_name = last_name\n",
    "        self.salary = salary\n",
    "    \n",
    "    def display_employee(self):\n",
    "        print(f\"First name is: {self.first_name} and last name is: {self.last_name} and salary is: {self.salary}\")\n",
    "        \n",
    "    def change_salary(self,increment):\n",
    "        self.salary = increment"
   ]
  },
  {
   "cell_type": "code",
   "execution_count": 13,
   "metadata": {},
   "outputs": [
    {
     "name": "stdout",
     "output_type": "stream",
     "text": [
      "hatim\n"
     ]
    }
   ],
   "source": [
    "emp1 = Employee(\"Mufaddal\", \"hatim\",10000)\n",
    "print(emp1.last_name)"
   ]
  },
  {
   "cell_type": "markdown",
   "metadata": {},
   "source": [
    "### Library Management System"
   ]
  },
  {
   "cell_type": "code",
   "execution_count": 15,
   "metadata": {},
   "outputs": [
    {
     "name": "stdout",
     "output_type": "stream",
     "text": [
      "Enter 1 to display books\n",
      "Enter 2 to lend a book\n",
      "Enter 3 to return a book\n",
      "Enter 4 to quit\n",
      "1\n",
      "Available books in library are: \n",
      "Harry Potter\n",
      "pride\n",
      "biology\n",
      "physics\n",
      "chemistry\n",
      "Enter 1 to display books\n",
      "Enter 2 to lend a book\n",
      "Enter 3 to return a book\n",
      "Enter 4 to quit\n",
      "2\n",
      "Enter the name of the book you want: physics\n",
      "You have now borrowed the book physics\n",
      "Enter 1 to display books\n",
      "Enter 2 to lend a book\n",
      "Enter 3 to return a book\n",
      "Enter 4 to quit\n",
      "1\n",
      "Available books in library are: \n",
      "Harry Potter\n",
      "pride\n",
      "biology\n",
      "chemistry\n",
      "Enter 1 to display books\n",
      "Enter 2 to lend a book\n",
      "Enter 3 to return a book\n",
      "Enter 4 to quit\n",
      "3\n",
      "Enter the name of the book you want to return: physics\n",
      "Thank you for the book\n",
      "Enter 1 to display books\n",
      "Enter 2 to lend a book\n",
      "Enter 3 to return a book\n",
      "Enter 4 to quit\n",
      "1\n",
      "Available books in library are: \n",
      "Harry Potter\n",
      "pride\n",
      "biology\n",
      "chemistry\n",
      "physics\n",
      "Enter 1 to display books\n",
      "Enter 2 to lend a book\n",
      "Enter 3 to return a book\n",
      "Enter 4 to quit\n",
      "4\n"
     ]
    }
   ],
   "source": [
    "class Library:\n",
    "    def __init__(self, list_of_books):\n",
    "        self.available_books = list_of_books\n",
    "    \n",
    "    def display(self):\n",
    "        print(\"Available books in library are: \")\n",
    "        for book in self.available_books:\n",
    "            print(book)\n",
    "    def lend_book(self, requested_book):\n",
    "        if requested_book in self.available_books:\n",
    "            print(f\"You have now borrowed the book {requested_book}\")\n",
    "            self.available_books.remove(requested_book)\n",
    "        else:\n",
    "            print(\"We dont have that book\")\n",
    "    def add_book(self,book):\n",
    "        if book in self.available_books:\n",
    "            print(\"We have this book already\")\n",
    "        else:\n",
    "            print(\"Thank you for the book\")\n",
    "            self.available_books.append(book)\n",
    "\n",
    "class Customer:\n",
    "    def request_book(self):\n",
    "        self.book = input(\"Enter the name of the book you want: \")\n",
    "        return self.book\n",
    "    def return_book(self):\n",
    "        self.book = input(\"Enter the name of the book you want to return: \")\n",
    "        return self.book\n",
    "\n",
    "\n",
    "\n",
    "library = Library([\"Harry Potter\",\"pride\",\"biology\",\"physics\",\"chemistry\"])\n",
    "customer = Customer()\n",
    "\n",
    "while True:\n",
    "    print(\"Enter 1 to display books\")\n",
    "    print(\"Enter 2 to lend a book\")\n",
    "    print(\"Enter 3 to return a book\")\n",
    "    print(\"Enter 4 to quit\")\n",
    "    \n",
    "    user_choice = int(input())\n",
    "    \n",
    "    if user_choice == 1:\n",
    "        library.display()\n",
    "    elif user_choice == 2:\n",
    "        requested_book = customer.request_book()\n",
    "        library.lend_book(requested_book)\n",
    "    elif user_choice == 3:\n",
    "        returned_book = customer.return_book()\n",
    "        library.add_book(returned_book)\n",
    "    elif user_choice == 4:\n",
    "        break"
   ]
  },
  {
   "cell_type": "code",
   "execution_count": null,
   "metadata": {},
   "outputs": [],
   "source": [
    "3"
   ]
  }
 ],
 "metadata": {
  "kernelspec": {
   "display_name": "Python 3",
   "language": "python",
   "name": "python3"
  },
  "language_info": {
   "codemirror_mode": {
    "name": "ipython",
    "version": 3
   },
   "file_extension": ".py",
   "mimetype": "text/x-python",
   "name": "python",
   "nbconvert_exporter": "python",
   "pygments_lexer": "ipython3",
   "version": "3.7.4"
  }
 },
 "nbformat": 4,
 "nbformat_minor": 2
}
