{
 "cells": [
  {
   "cell_type": "code",
   "execution_count": 1,
   "metadata": {},
   "outputs": [
    {
     "name": "stdout",
     "output_type": "stream",
     "text": [
      "Enter age18\n",
      "Enter gendermale\n",
      "Allow\n"
     ]
    }
   ],
   "source": [
    "age = int(input(\"Enter age\"));\n",
    "gender = input(\"Enter gender\");\n",
    "if age >= 18 and gender == \"male\":\n",
    "    print(\"Allow\");\n",
    "else:\n",
    "    print(\"Donot Allow\");"
   ]
  },
  {
   "cell_type": "code",
   "execution_count": 2,
   "metadata": {},
   "outputs": [
    {
     "name": "stdout",
     "output_type": "stream",
     "text": [
      "Enter age15\n",
      "Enter gendermale\n",
      "Allow\n"
     ]
    }
   ],
   "source": [
    "age = int(input(\"Enter age\"));\n",
    "gender = input(\"Enter gender\");\n",
    "if age >= 18 or gender == \"male\":\n",
    "    print(\"Allow\");\n",
    "else:\n",
    "    print(\"Donot Allow\");"
   ]
  },
  {
   "cell_type": "code",
   "execution_count": 3,
   "metadata": {},
   "outputs": [
    {
     "name": "stdout",
     "output_type": "stream",
     "text": [
      "[112.6]\n"
     ]
    }
   ],
   "source": [
    "# Learning List\n",
    "\n",
    "arr = [112,6];\n",
    "print(arr)"
   ]
  },
  {
   "cell_type": "code",
   "execution_count": 4,
   "metadata": {},
   "outputs": [
    {
     "name": "stdout",
     "output_type": "stream",
     "text": [
      "[112, 6]\n"
     ]
    }
   ],
   "source": [
    "# Learning List\n",
    "\n",
    "arr = [112,6];\n",
    "print(arr)"
   ]
  },
  {
   "cell_type": "code",
   "execution_count": 5,
   "metadata": {},
   "outputs": [
    {
     "name": "stdout",
     "output_type": "stream",
     "text": [
      "Hello World\n"
     ]
    }
   ],
   "source": [
    "\"\"\"We are learning python\n",
    "learning list now\"\"\"\n",
    "\n",
    "print(\"Hello World\");"
   ]
  },
  {
   "cell_type": "code",
   "execution_count": 7,
   "metadata": {},
   "outputs": [
    {
     "name": "stdout",
     "output_type": "stream",
     "text": [
      "Zulqi,Rani,Ehsan,Samina,Bilal,Annad\n"
     ]
    }
   ],
   "source": [
    "name1 = \"Zulqi\"\n",
    "name2 = \"Rani\";\n",
    "name3 = \"Ehsan\";\n",
    "name4 = \"Samina\";\n",
    "name5 = \"Bilal\";\n",
    "name6 = \"Annad\";\n",
    "print(name1+\",\"+name2+\",\"+name3+\",\"+name4+\",\"+name5+\",\"+name6)"
   ]
  },
  {
   "cell_type": "code",
   "execution_count": 8,
   "metadata": {},
   "outputs": [
    {
     "name": "stdout",
     "output_type": "stream",
     "text": [
      "['Zulqi', 'Rani', 'Ehsan', 'Samina', 'Bilal', 'Annad']\n"
     ]
    }
   ],
   "source": [
    "# List\n",
    "\n",
    "name = [\"Zulqi\",\"Rani\",\"Ehsan\",\"Samina\",\"Bilal\",\"Annad\"];\n",
    "print(name)"
   ]
  },
  {
   "cell_type": "code",
   "execution_count": 9,
   "metadata": {},
   "outputs": [
    {
     "name": "stdout",
     "output_type": "stream",
     "text": [
      "Zulqi\n"
     ]
    }
   ],
   "source": [
    "print(name[0]);"
   ]
  },
  {
   "cell_type": "code",
   "execution_count": 10,
   "metadata": {},
   "outputs": [
    {
     "name": "stdout",
     "output_type": "stream",
     "text": [
      "['Zulqi', 'Ali', 'Ehsan', 'Samina', 'Bilal', 'Annad']\n"
     ]
    }
   ],
   "source": [
    "name[1]=\"Ali\";\n",
    "print(name);"
   ]
  },
  {
   "cell_type": "code",
   "execution_count": 11,
   "metadata": {},
   "outputs": [
    {
     "name": "stdout",
     "output_type": "stream",
     "text": [
      "['Zulqi', 'Ali', 'Ehsan', 'Samina', 'Bilal', 'Annad', 'Ahmed']\n"
     ]
    }
   ],
   "source": [
    "name.append(\"Ahmed\");\n",
    "print(name);"
   ]
  },
  {
   "cell_type": "code",
   "execution_count": 12,
   "metadata": {},
   "outputs": [
    {
     "ename": "NameError",
     "evalue": "name 'true' is not defined",
     "output_type": "error",
     "traceback": [
      "\u001b[1;31m---------------------------------------------------------------------------\u001b[0m",
      "\u001b[1;31mNameError\u001b[0m                                 Traceback (most recent call last)",
      "\u001b[1;32m<ipython-input-12-c5789e79d6e9>\u001b[0m in \u001b[0;36m<module>\u001b[1;34m\u001b[0m\n\u001b[1;32m----> 1\u001b[1;33m \u001b[0marr\u001b[0m \u001b[1;33m=\u001b[0m \u001b[1;33m[\u001b[0m\u001b[1;34m\"lion\"\u001b[0m\u001b[1;33m,\u001b[0m\u001b[1;36m12\u001b[0m\u001b[1;33m,\u001b[0m\u001b[0mtrue\u001b[0m\u001b[1;33m,\u001b[0m\u001b[1;36m5.69\u001b[0m\u001b[1;33m]\u001b[0m\u001b[1;33m\u001b[0m\u001b[1;33m\u001b[0m\u001b[0m\n\u001b[0m\u001b[0;32m      2\u001b[0m \u001b[0mprint\u001b[0m\u001b[1;33m(\u001b[0m\u001b[0marr\u001b[0m\u001b[1;33m)\u001b[0m\u001b[1;33m\u001b[0m\u001b[1;33m\u001b[0m\u001b[0m\n",
      "\u001b[1;31mNameError\u001b[0m: name 'true' is not defined"
     ]
    }
   ],
   "source": [
    "arr = [\"lion\",12,true,5.69]\n",
    "print(arr)"
   ]
  },
  {
   "cell_type": "code",
   "execution_count": 13,
   "metadata": {},
   "outputs": [
    {
     "name": "stdout",
     "output_type": "stream",
     "text": [
      "['lion', 12, True, 5.69]\n"
     ]
    }
   ],
   "source": [
    "arr = [\"lion\",12,True,5.69]\n",
    "print(arr)"
   ]
  },
  {
   "cell_type": "code",
   "execution_count": 14,
   "metadata": {},
   "outputs": [
    {
     "data": {
      "text/plain": [
       "['Zulqi', 'Ali', 'Ehsan', 'Samina', 'Bilal', 'Annad', 'Ahmed']"
      ]
     },
     "execution_count": 14,
     "metadata": {},
     "output_type": "execute_result"
    }
   ],
   "source": [
    "name\n"
   ]
  },
  {
   "cell_type": "code",
   "execution_count": 15,
   "metadata": {},
   "outputs": [
    {
     "name": "stdout",
     "output_type": "stream",
     "text": [
      "['Zulqi', 'Ali', 'Ehsan', 'Samina', 'Bilal', 'Annad', 'Ahmed', 'lion', 12, True, 5.69]\n"
     ]
    }
   ],
   "source": [
    "newList = name + arr;\n",
    "print(newList);"
   ]
  },
  {
   "cell_type": "code",
   "execution_count": 16,
   "metadata": {},
   "outputs": [
    {
     "data": {
      "text/plain": [
       "['Zulqi', 'Ali', 'Ehsan', 'Samina', 'Bilal', 'Annad', 'Ahmed']"
      ]
     },
     "execution_count": 16,
     "metadata": {},
     "output_type": "execute_result"
    }
   ],
   "source": [
    "name"
   ]
  },
  {
   "cell_type": "code",
   "execution_count": 17,
   "metadata": {},
   "outputs": [
    {
     "name": "stdout",
     "output_type": "stream",
     "text": [
      "None\n"
     ]
    }
   ],
   "source": [
    "name = name.insert(3,\"Rashid\")\n",
    "print(name)"
   ]
  },
  {
   "cell_type": "code",
   "execution_count": 18,
   "metadata": {},
   "outputs": [],
   "source": [
    "name"
   ]
  },
  {
   "cell_type": "code",
   "execution_count": 19,
   "metadata": {},
   "outputs": [
    {
     "name": "stdout",
     "output_type": "stream",
     "text": [
      "None\n"
     ]
    }
   ],
   "source": [
    "print(name);"
   ]
  },
  {
   "cell_type": "code",
   "execution_count": 20,
   "metadata": {},
   "outputs": [],
   "source": [
    "name"
   ]
  },
  {
   "cell_type": "code",
   "execution_count": null,
   "metadata": {},
   "outputs": [],
   "source": []
  }
 ],
 "metadata": {
  "kernelspec": {
   "display_name": "Python 3",
   "language": "python",
   "name": "python3"
  },
  "language_info": {
   "codemirror_mode": {
    "name": "ipython",
    "version": 3
   },
   "file_extension": ".py",
   "mimetype": "text/x-python",
   "name": "python",
   "nbconvert_exporter": "python",
   "pygments_lexer": "ipython3",
   "version": "3.7.4"
  }
 },
 "nbformat": 4,
 "nbformat_minor": 2
}
